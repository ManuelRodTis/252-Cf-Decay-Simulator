{
 "cells": [
  {
   "cell_type": "code",
   "execution_count": 67,
   "metadata": {},
   "outputs": [],
   "source": [
    "import numpy as np\n",
    "import pandas as pd\n",
    "import matplotlib.pyplot as plt\n",
    "import plotly.graph_objects as go\n",
    "import plotly.offline as py\n",
    "\n",
    "from PIL import Image\n",
    "from scipy.integrate import odeint\n",
    "\n",
    "%matplotlib inline"
   ]
  },
  {
   "cell_type": "markdown",
   "metadata": {},
   "source": [
    "## Data Collected"
   ]
  },
  {
   "cell_type": "code",
   "execution_count": 68,
   "metadata": {},
   "outputs": [],
   "source": [
    "# Here we load the data that we need to make the numerical simulator.\n",
    "\n",
    "# This data set contains all the isotopes that will be used \n",
    "ISOTOPES = pd.read_csv(\"ISOTOPES\",) \n",
    "\n",
    "# This data set contains the isotopes, their half-lives, decay constants\n",
    "# and the fission yileds from the spontaneous fission of 252Cf\n",
    "HLDC = pd.read_csv(\"HL&DC\",) \n",
    "\n",
    "# This data set shows the relation among all different isotopes\n",
    "BranchingRatiosData = pd.read_csv(\"BranchingRatiosData\",) \n",
    "\n",
    "# We will use the data frame HLDC to make  a new one that only contains the isotopes id and\n",
    "# the half-lives\n",
    "\n",
    "IsotopesHalfLives = HLDC[[\"Isotopes\",\"Half Lives (sec)\"]] "
   ]
  },
  {
   "cell_type": "markdown",
   "metadata": {},
   "source": [
    "## Thresholds"
   ]
  },
  {
   "cell_type": "code",
   "execution_count": 69,
   "metadata": {},
   "outputs": [],
   "source": [
    "# Since we are only intersted in decays longer than 1.0*10^-3 sec and less than 3600 sec\n",
    "# we need to apply two thresholds"
   ]
  },
  {
   "cell_type": "code",
   "execution_count": 70,
   "metadata": {},
   "outputs": [],
   "source": [
    "# Threshold 1\n",
    "# This function will stop the deacy chain when isotopes have a cartain half-life or longer.\n",
    "# This values is declared as \"th1\"\n",
    "\n",
    "\n",
    "def CutDecayChain(BranchingRatiosData, HalfLivesDatSet, Th1):\n",
    "    \n",
    "    IsotopesMeetThreshold=HalfLivesDatSet[\"Half Lives (sec)\"] > Th1\n",
    "    \n",
    "    #We put the isotopes that meet the thrshold in a list \"Isotopes_High_Halfife\"\n",
    "    Df1_new=HalfLivesDatSet.loc[IsotopesMeetThreshold]\n",
    "    Isotopes_High_Halfife = Df1_new[\"Isotopes\"].tolist()\n",
    "    \n",
    "    \n",
    "    # We now use the isotopes Id's that are on the list created\n",
    "    # to find the columns that will be dropped in the data frame that contains the data \"BranchingRatiosData\"\n",
    "    \n",
    "    # C1 and C2 contain the conditions needed to identify the columns to be dropped \n",
    "    # These columns are stored in variable A \n",
    "\n",
    "    C1=BranchingRatiosData[\"Fission Products\"].isin(Isotopes_High_Halfife)\n",
    "    C2=BranchingRatiosData[\"Branching Ratios\"] != -1\n",
    "\n",
    "    A=BranchingRatiosData[C1 & C2]\n",
    "\n",
    "    #We now update the the data frame by creating a list with the isotpes to be dropped and dropping them from the data.\n",
    "\n",
    "    Aindexes = A.index.values.tolist()\n",
    "    BranchingRatiosData.drop(Aindexes, axis=0, inplace=True)\n",
    "    \n",
    "    return BranchingRatiosData\n",
    "    "
   ]
  },
  {
   "cell_type": "code",
   "execution_count": 71,
   "metadata": {},
   "outputs": [],
   "source": [
    "# Here we apply threshold 1 to update our data and later apply threshold 2.\n",
    "\n",
    "BranchingRatiosData = CutDecayChain(BranchingRatiosData, IsotopesHalfLives, 3600)"
   ]
  },
  {
   "cell_type": "code",
   "execution_count": 72,
   "metadata": {},
   "outputs": [],
   "source": [
    "# Threshold 2 iterates through the data and skips short lived isotopes for a certain threshold\n",
    "# To do this three functions were made, "
   ]
  },
  {
   "cell_type": "code",
   "execution_count": 73,
   "metadata": {},
   "outputs": [],
   "source": [
    "# Function one: iterates through the data once skipping shortived isotopes\n",
    "\n",
    "def SkipShortLivedIsotopes(FatherDaughterRelation, IsotopesHalfLives, Threshold):\n",
    "    \n",
    "    # This gives us the condition to get the isotopes that meet the threshold\n",
    "    IsotopesMeetThreshold = IsotopesHalfLives[\"HL\"] < Threshold\n",
    "\n",
    "    # This creates a list of the isotopes that meet the threshold\n",
    "    IsotopeListMeetThreshold = IsotopesHalfLives[IsotopesMeetThreshold][\"In\"].tolist()\n",
    "\n",
    "    # Isotopes with  negative BR indicate the decay of the isotope itself not the decay to another isotope.\n",
    "    # Here this condition gives us the rows that show the decay from one isotope to another\n",
    "    IsotopesWithPositiveBranchingRatio = FatherDaughterRelation[\"BR\"] != -1\n",
    "\n",
    "    # Here we determine if the isotopes that meet the threshold are daughter isotopes and will have to be skipped\n",
    "    DaughterIsotopesMeetThreshold = FatherDaughterRelation[\"D\"].isin(IsotopeListMeetThreshold)\n",
    "\n",
    "    # This condition shows if the shortlived isotopes are father isotopes\n",
    "    ShortLivedFatherIsotopes = FatherDaughterRelation[\"F\"].isin(IsotopeListMeetThreshold)\n",
    "\n",
    "\n",
    "    ConflictingSet=FatherDaughterRelation[DaughterIsotopesMeetThreshold & IsotopesWithPositiveBranchingRatio].reset_index(drop=True)\n",
    "\n",
    "    \n",
    "    # Now we find the counts of the short lived daughter isotopes.\n",
    "    # This indicates how many father isotpes they have which will come in handy later  \n",
    "\n",
    "    CountsOfShortLivedIsotopes=np.array(ConflictingSet[\"D\"].value_counts())\n",
    "\n",
    "    # We need to also know if the shortlived daughter isotpes decay to something.\n",
    "    # To do this we can check in the first data frame if these isotopes are Fathers (under \"F\")\n",
    "    # This is the key portion of the data frame as it needs to be updated to replace the Isotopes that meet the threshold\n",
    "    # (under \"F\" in this prtion of the data frame) by their respective Father isotopes.\n",
    "    \n",
    "    FatherIsotopesToBeUpdated= FatherDaughterRelation[ShortLivedFatherIsotopes & IsotopesWithPositiveBranchingRatio].reset_index(drop=True)\n",
    "\n",
    "    # An issue is that some isotopes have more than one father isotope which means that apart from changing the father isotopes\n",
    "    # we need replecate every row by the number of father isotopes that each Shortlived Fatheisotope has, we will make use of \n",
    "    # the CountsOfShortLivedIsotopes array since these counts represent the number of father isotopes for the shortlived father Isotopes\n",
    "\n",
    "\n",
    "    FatherIsotopesToBeUpdated['Counts'] = FatherIsotopesToBeUpdated.groupby(['F'])['BR'].transform('count')\n",
    "\n",
    "    # We do the same for the ConflictingSet data frame since it has the father isotopes of the shortlived isotopes\n",
    "    # and they both need to have the same length\n",
    "\n",
    "    ConflictingSet['Counts'] = ConflictingSet.groupby(['D'])['BR'].transform('count')\n",
    "\n",
    "\n",
    "    # Here we now make use of the counts to get the correct repetitions of rows\n",
    "\n",
    "\n",
    "    ShortLivedIsotopesRightLength = FatherIsotopesToBeUpdated.loc[FatherIsotopesToBeUpdated.index.repeat(FatherIsotopesToBeUpdated.Counts)].reset_index(drop=True)\n",
    "    FatherIsotopesRightLength = ConflictingSet.loc[ConflictingSet.index.repeat(ConflictingSet.Counts)].reset_index(drop=True)\n",
    "    \n",
    "    \n",
    "    # Another issue that arises is that the order of the father isotopes from the FatherIsotopesRightLength dataframe\n",
    "    # does not match with the order of the Daughter isotopes from the ShortLivedIsotopesRightLength for each group.\n",
    "    # Each group being the different shortlived isotopes (Example: shortlivedI1 and shortlivedI2)\n",
    "    \n",
    "    # Example of the curent order and how it needs to be formed:\n",
    "    \n",
    "    # Current order: shortlivedI1[A,A,B,B], shortlivedI2[C,C,C,D,D,D,E,E,E]\n",
    "    # Right order: shortlivedI1[A,B,A,B], shortlivedI2[C,D,E,C,D,E,C,D,E]\n",
    "\n",
    "    # To solve this problem, we can add another column with a numerical order that is easdy to manipluate to the change our\n",
    "    # data frame (FatherIsotopesRightLength ) to the desire order\n",
    "\n",
    "    # To generate this list of numbers we will make use of a foor loop and the CountsOfShortLivedIsotopes array and make a list\n",
    "    # out of it\n",
    "\n",
    "    Counts_list = CountsOfShortLivedIsotopes.tolist()\n",
    "    Counts_list\n",
    "    \n",
    "    \n",
    "\n",
    "\n",
    "    ListOfNumbersToGiveOrder=[]\n",
    "\n",
    "    for i in Counts_list:\n",
    "        a=np.arange(1,i+1)\n",
    "        b=a.tolist()*i\n",
    "        ListOfNumbersToGiveOrder=np.append(ListOfNumbersToGiveOrder,b)\n",
    "    \n",
    "\n",
    "    # Here we now use the array that we created and add a colum with the ListOfNumbersToGiveOrder and use it to give it \n",
    "    # the correct order\n",
    "\n",
    "    OrderedFatherIsotopes= FatherIsotopesRightLength[[\"F\",\"D\",\"BR\"]]\n",
    "\n",
    "    OrderedFatherIsotopes[\"Order\"] = ListOfNumbersToGiveOrder\n",
    "\n",
    "    OrderedFatherIsotopes=OrderedFatherIsotopes.sort_values(['D', 'Order'], ascending = (True, True)).reset_index(drop=True)\n",
    "\n",
    "\n",
    "    # We now get rid of the columns that we don't need \n",
    "    # Keeping the Branching ratio is important as in the end it will have to be updated along with data frame.\n",
    "    # For this reason well add the suffix G indicating that this is the grand father data\n",
    "    # and at the end we will change everything to the same labelings\n",
    "\n",
    "\n",
    "    OrderedFatherIsotopes=OrderedFatherIsotopes[[\"F\",\"BR\"]].add_prefix('G_').reset_index(drop=True)\n",
    "\n",
    "\n",
    "\n",
    "    # We do the same for ShortLivedIsotopesRightLength\n",
    "    # In this case we don't need tp add a suffix\n",
    "\n",
    "    ShortLivedIsotopesRightLength=ShortLivedIsotopesRightLength[[\"D\",\"BR\"]]\n",
    "\n",
    "\n",
    "\n",
    "\n",
    "    # Now we need to join the two dataframes and add anew column that will contain the new Branching Ratio\n",
    "\n",
    "\n",
    "    OrderedFatherIsotopes=OrderedFatherIsotopes.join(ShortLivedIsotopesRightLength)\n",
    "\n",
    "    OrderedFatherIsotopes[\"BR_New\"] = OrderedFatherIsotopes[\"G_BR\"]*OrderedFatherIsotopes[\"BR\"]\n",
    "\n",
    "\n",
    "    # Now we get rid of the coulmns we don't need and rena,me the columns to match our original data frame\n",
    "\n",
    "    UpdatedPortion=OrderedFatherIsotopes[[\"G_F\", \"D\", \"BR_New\"]].rename(columns={\"G_F\": \"F\", \"BR_New\": \"BR\"},)\n",
    "\n",
    "\n",
    "\n",
    "    # Now that we have an updated portion we need to drop the data frames that needed to be updated from the original data farme\n",
    "    \n",
    "    ToBeDropped1 = FatherDaughterRelation[DaughterIsotopesMeetThreshold & IsotopesWithPositiveBranchingRatio].reset_index(drop=True)\n",
    "\n",
    "    ToBeDropped2 = FatherDaughterRelation[ShortLivedFatherIsotopes & IsotopesWithPositiveBranchingRatio].reset_index(drop=True)\n",
    "\n",
    "\n",
    "    # we drop them from the original data frame\n",
    "\n",
    "    UpdatedFatherDaughterRelation=pd.concat([FatherDaughterRelation, ToBeDropped1, ToBeDropped2]).drop_duplicates(keep=False)\n",
    "\n",
    "    UpdatedFatherDaughterRelation\n",
    "\n",
    "\n",
    "    # Finally we get updated FatherDaughterRelation Data frame for one full iteration\n",
    "\n",
    "    FinalFatherDaughterRelation= pd.concat([UpdatedFatherDaughterRelation, UpdatedPortion]).sort_values('F').reset_index(drop=True)\n",
    "    \n",
    "    \n",
    "    RepeatedFatherAndDaughter=FinalFatherDaughterRelation[ (FinalFatherDaughterRelation[\"BR\"] != -1) & (FinalFatherDaughterRelation[\"F\"] == FinalFatherDaughterRelation[\"D\"])]\n",
    "    \n",
    "    \n",
    "    FinalFatherDaughterRelation=pd.concat([FinalFatherDaughterRelation, RepeatedFatherAndDaughter]).drop_duplicates(keep=False)\n",
    "\n",
    "    FatherDaughterRelation = FinalFatherDaughterRelation\n",
    "    \n",
    "    return FatherDaughterRelation"
   ]
  },
  {
   "cell_type": "code",
   "execution_count": 74,
   "metadata": {},
   "outputs": [],
   "source": [
    "# Function 2 will determine how many times we'll have to iterate through the data and apply function 1\n",
    "\n",
    "def DaughtersToBeSkiped(FatherDaughterRelation, IsotopesHalfLives, Threshold):\n",
    "    \n",
    "    # This gives us the condition to get the isotopes that meet the threshold\n",
    "    IsotopesMeetThreshold = IsotopesHalfLives[\"HL\"] < Threshold\n",
    "\n",
    "    # This creates a list of the isotopes that meet the threshold\n",
    "    IsotopeListMeetThreshold = IsotopesHalfLives[IsotopesMeetThreshold][\"In\"].tolist()\n",
    "\n",
    "\n",
    "    # Isotopes with  negative BR indicate the decay of the isotope itself not the decay to another isotope.\n",
    "    # Here this condition gives us the rows that show the decay from one isotope to another\n",
    "    IsotopesWithPositiveBranchingRatio = FatherDaughterRelation[\"BR\"] != -1\n",
    "\n",
    "\n",
    "    # Here we determine if the isotopes that meet the threshold are daughter isotopes and will have to be skipped\n",
    "    DaughterIsotopesMeetThreshold = FatherDaughterRelation[\"D\"].isin(IsotopeListMeetThreshold)\n",
    "\n",
    "    # This portion of the data frame contains the isotpes that will need to be skipped, as daughters.\n",
    "    # Here we can see the diferent father isotpopes that they have.\n",
    "\n",
    "    ConflictingSet=FatherDaughterRelation[DaughterIsotopesMeetThreshold & IsotopesWithPositiveBranchingRatio].reset_index(drop=True)\n",
    "\n",
    "    Unique_Daughter_values = ConflictingSet[\"D\"].unique()\n",
    "    \n",
    "    Length = len(Unique_Daughter_values)\n",
    "    \n",
    "    return Length"
   ]
  },
  {
   "cell_type": "code",
   "execution_count": 75,
   "metadata": {},
   "outputs": [],
   "source": [
    "# Function 3 makes use of the previous two functions to update the entire data and obtain the desired form.\n",
    "\n",
    "def ApplyThreshold2(FatherDaughterRelation, IsotopesHalfLives, Threshold):\n",
    "    \n",
    "    IsotopesMeetThreshold=DaughtersToBeSkiped(FatherDaughterRelation, IsotopesHalfLives, Threshold)\n",
    "    \n",
    "    Updated = SkipShortLivedIsotopes(FatherDaughterRelation, IsotopesHalfLives, Threshold) \n",
    "    \n",
    "    while IsotopesMeetThreshold > 0:\n",
    "        \n",
    "        Updated = SkipShortLivedIsotopes(Updated, IsotopesHalfLives, Threshold)\n",
    "        IsotopesMeetThreshold=DaughtersToBeSkiped(Updated , IsotopesHalfLives, Threshold)\n",
    "        \n",
    "        if IsotopesMeetThreshold == 0:\n",
    "            break;   \n",
    "            \n",
    "    return Updated"
   ]
  },
  {
   "cell_type": "code",
   "execution_count": 76,
   "metadata": {},
   "outputs": [],
   "source": [
    "# To make sure that our functons work properly when we use them,\n",
    "# we will have to rename the labels of our data frames so that they agree with the ones used in the data frame\n",
    "# *This step can be skipped if the original data is renamed to the correct form *\n",
    "\n",
    "\n",
    "# We use the temprary variables Data1, Data2 and Data3 to rename the labels our data.  \n",
    "\n",
    "Data1=BranchingRatiosData.rename(columns={\"Fission Products\": \"F\", \"Daughter Nuclides\": \"D\", \"Branching Ratios\":\"BR\",})\n",
    "Data2=IsotopesHalfLives.rename(columns={\"Isotopes\":\"In\",\"Half Lives (sec)\":\"HL\"})\n",
    "\n",
    "# We apply the threshold 2\n",
    "# Here any decay with a halflife less than 0.01 will be skipped\n",
    "\n",
    "Data3=ApplyThreshold2(Data1, Data2, 0.01)\n",
    "\n",
    "# Here we now rename the labels as their original names. \n",
    "\n",
    "BranchingRatiosData=Data3.rename(columns={\"F\":\"Fission Products\",\"D\":\"Daughter Nuclides\",\"BR\":\"Branching Ratios\"})"
   ]
  },
  {
   "cell_type": "markdown",
   "metadata": {},
   "source": [
    "# Decay chains\n"
   ]
  },
  {
   "cell_type": "code",
   "execution_count": 77,
   "metadata": {},
   "outputs": [],
   "source": [
    "#Using a pivot table allows us to relate the barnching ratios of every single isiotope with one another\n",
    "\n",
    "pivottable=BranchingRatiosData.pivot_table(values='Branching Ratios',index='Daughter Nuclides',columns='Fission Products').fillna(0)\n",
    "\n",
    "#pivottable"
   ]
  },
  {
   "cell_type": "code",
   "execution_count": 78,
   "metadata": {
    "scrolled": true
   },
   "outputs": [
    {
     "name": "stderr",
     "output_type": "stream",
     "text": [
      "IOPub data rate exceeded.\n",
      "The notebook server will temporarily stop sending output\n",
      "to the client in order to avoid crashing it.\n",
      "To change this limit, set the config variable\n",
      "`--NotebookApp.iopub_data_rate_limit`.\n",
      "\n",
      "Current values:\n",
      "NotebookApp.iopub_data_rate_limit=1000000.0 (bytes/sec)\n",
      "NotebookApp.rate_limit_window=3.0 (secs)\n",
      "\n"
     ]
    }
   ],
   "source": [
    "# We also need to consider de deacy constant of the isotopes and include them in trhe pivot table.\n",
    "# Also to solve the system of differential equations that we will create we need to turn the pvot table into a matrix\n",
    "\n",
    "var = [ ]\n",
    "for column in pivottable:\n",
    "    var.append ( pivottable[ column ].tolist () )\n",
    "\n",
    "for row in var :\n",
    "    print(row)\n",
    "    \n",
    "Matrix=[]\n",
    "    \n",
    "result = [[var[j][i] for j in range(len(var))] for i in range(len(var[0]))]\n",
    "\n",
    "Matrix=np.array(result)\n",
    "\n",
    "#Matrix"
   ]
  },
  {
   "cell_type": "code",
   "execution_count": 79,
   "metadata": {},
   "outputs": [],
   "source": [
    "# The following lists contain important data that we will use\n",
    "\n",
    "# This list contains the decay constant values of all isotpes in our data following the order found in the data frame\n",
    "DecayConstantVals=np.array(HLDC[\"Decay Constant\"])\n",
    "\n",
    "# This list conatins the fission yields values of 252Cf \n",
    "FYVals=np.array(HLDC[\"Fission Yields\"])\n",
    "\n",
    "# This list contains the name of the isotopes in our data\n",
    "# Since the data conatins the name of the isotopes with spaces between the quotation marks, the following piece of code\n",
    "# gets rid of that space so taht it looks better\n",
    "\n",
    "\n",
    "ISOIDs = np.array(ISOTOPES[\"Isotopes\"]).tolist()\n",
    "\n",
    "ID = []\n",
    "\n",
    "for i in ISOIDs:\n",
    "    j = i.replace(' ','')\n",
    "    ID.append(j)"
   ]
  },
  {
   "cell_type": "code",
   "execution_count": 80,
   "metadata": {},
   "outputs": [
    {
     "data": {
      "text/plain": [
       "array([[-9.24196241e+000,  0.00000000e+000,  0.00000000e+000, ...,\n",
       "         0.00000000e+000,  0.00000000e+000,  0.00000000e+000],\n",
       "       [ 0.00000000e+000, -1.01933409e+001,  0.00000000e+000, ...,\n",
       "         0.00000000e+000,  0.00000000e+000,  0.00000000e+000],\n",
       "       [ 0.00000000e+000,  0.00000000e+000, -1.47478124e+001, ...,\n",
       "         0.00000000e+000,  0.00000000e+000,  0.00000000e+000],\n",
       "       ...,\n",
       "       [ 0.00000000e+000,  0.00000000e+000,  0.00000000e+000, ...,\n",
       "        -6.93147181e-101,  0.00000000e+000,  0.00000000e+000],\n",
       "       [ 0.00000000e+000,  0.00000000e+000,  0.00000000e+000, ...,\n",
       "         0.00000000e+000, -6.93147181e-101,  0.00000000e+000],\n",
       "       [ 0.00000000e+000,  0.00000000e+000,  0.00000000e+000, ...,\n",
       "         0.00000000e+000,  0.00000000e+000, -6.93147181e-101]])"
      ]
     },
     "execution_count": 80,
     "metadata": {},
     "output_type": "execute_result"
    }
   ],
   "source": [
    "# This is the data that we will use , it takes into account the branching ratios and decay constants of the isotpes. \n",
    "\n",
    "FinalMatrix=Matrix*DecayConstantVals\n",
    "FinalMatrix"
   ]
  },
  {
   "cell_type": "code",
   "execution_count": 81,
   "metadata": {},
   "outputs": [],
   "source": [
    "# This piece of code sets the system of diff eqs and uses odeint to solve them.\n",
    "# Here the span of time needs to be indicated\n",
    "\n",
    "def deriv(A, t, Ab):\n",
    "    return np.dot(Ab, A)\n",
    "\n",
    "t = np.linspace(0,3600,5000)\n",
    "MA = odeint(deriv, FYVals, t, args=(FinalMatrix,))\n"
   ]
  },
  {
   "cell_type": "code",
   "execution_count": 82,
   "metadata": {},
   "outputs": [],
   "source": [
    "# This fucntions allows us to plot the time evolution of the fission products by indicating the ID of the isotope\n",
    "# ID of isotope 'Z-N'\n",
    "\n",
    "def TimeEvolve(x):\n",
    "    N=0\n",
    "    for i in ID:\n",
    "        if x == i:\n",
    "            N+=1\n",
    "        \n",
    "            A=ID.index(i)\n",
    "        \n",
    "            fig, ax = plt.subplots()\n",
    "        \n",
    "            ax.plot(t, MA[:, A],'seagreen' ,lw=1.5, ls='-', marker='o', markersize=5, label= x)\n",
    "        \n",
    "            ax.grid()\n",
    "            ax.legend()\n",
    "        \n",
    "            ax.set_title('252Cf Fission Products Time Evolution', fontsize=14)\n",
    "            ax.set_xlabel('Time (sec)', fontsize=14)\n",
    "            ax.set_ylabel('Radiactive amount of isotope', fontsize=14)\n",
    "            \n",
    "            #ax.set_yscale('log')\n",
    "            #ax.set_xscale('log')\n",
    "        \n",
    "            fig.set_figwidth(9)\n",
    "            fig.set_figheight(6)\n",
    "        \n",
    "            plt.yticks(fontsize=12)    \n",
    "            plt.xticks(fontsize=12)\n",
    "        \n",
    "            plt.show()\n",
    "        \n",
    "    if N == 0:\n",
    "        print(\"I don't know that sotope\")"
   ]
  },
  {
   "cell_type": "code",
   "execution_count": 83,
   "metadata": {},
   "outputs": [
    {
     "data": {
      "image/png": "[encoded data removed]",
      "text/plain": [
       "<Figure size 648x432 with 1 Axes>"
      ]
     },
     "metadata": {
      "needs_background": "light"
     },
     "output_type": "display_data"
    }
   ],
   "source": [
    "Isotope = '56-124'\n",
    "\n",
    "TimeEvolve(Isotope)"
   ]
  },
  {
   "cell_type": "code",
   "execution_count": null,
   "metadata": {},
   "outputs": [],
   "source": []
  },
  {
   "cell_type": "code",
   "execution_count": 66,
   "metadata": {},
   "outputs": [],
   "source": []
  },
  {
   "cell_type": "code",
   "execution_count": 46,
   "metadata": {},
   "outputs": [],
   "source": []
  },
  {
   "cell_type": "code",
   "execution_count": null,
   "metadata": {},
   "outputs": [],
   "source": []
  },
  {
   "cell_type": "code",
   "execution_count": null,
   "metadata": {},
   "outputs": [],
   "source": []
  },
  {
   "cell_type": "code",
   "execution_count": null,
   "metadata": {},
   "outputs": [],
   "source": []
  },
  {
   "cell_type": "code",
   "execution_count": null,
   "metadata": {},
   "outputs": [],
   "source": []
  },
  {
   "cell_type": "code",
   "execution_count": null,
   "metadata": {},
   "outputs": [],
   "source": []
  },
  {
   "cell_type": "code",
   "execution_count": null,
   "metadata": {},
   "outputs": [],
   "source": []
  },
  {
   "cell_type": "code",
   "execution_count": null,
   "metadata": {},
   "outputs": [],
   "source": []
  },
  {
   "cell_type": "code",
   "execution_count": null,
   "metadata": {},
   "outputs": [],
   "source": []
  },
  {
   "cell_type": "code",
   "execution_count": null,
   "metadata": {},
   "outputs": [],
   "source": []
  },
  {
   "cell_type": "code",
   "execution_count": null,
   "metadata": {},
   "outputs": [],
   "source": []
  },
  {
   "cell_type": "code",
   "execution_count": null,
   "metadata": {},
   "outputs": [],
   "source": []
  },
  {
   "cell_type": "code",
   "execution_count": null,
   "metadata": {},
   "outputs": [],
   "source": []
  },
  {
   "cell_type": "code",
   "execution_count": null,
   "metadata": {},
   "outputs": [],
   "source": []
  }
 ],
 "metadata": {
  "kernelspec": {
   "display_name": "Python 3",
   "language": "python",
   "name": "python3"
  },
  "language_info": {
   "codemirror_mode": {
    "name": "ipython",
    "version": 3
   },
   "file_extension": ".py",
   "mimetype": "text/x-python",
   "name": "python",
   "nbconvert_exporter": "python",
   "pygments_lexer": "ipython3",
   "version": "3.7.4"
  }
 },
 "nbformat": 4,
 "nbformat_minor": 2
}
